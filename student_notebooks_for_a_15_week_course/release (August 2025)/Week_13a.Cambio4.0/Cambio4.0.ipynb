{
 "cells": [
  {
   "cell_type": "markdown",
   "metadata": {
    "id": "HEFjocdv1OeY"
   },
   "source": [
    "### Computational Guided Inquiry for Modeling Earth's Climate (Neshyba, 2025)\n",
    "\n",
    "# Cambio 4.0\n",
    "\n",
    "## The terrestrial sequestration feedback\n",
    "In previous versions of Cambio, the atmosphere-to-land carbon flux was calculated as $F_{atm->land} = k_{al0} +  k_{al1} \\times [C_{atm}]$, in which $k_{al1}$ was described as a measure of the strength of Earth's natural $CO_2$ fertilization capability. Because this capability is a free ecosystem service provided by (mostly) forest photosynthesis, part of Earth system stewardship would be to help ensure that $k_{al1}$ stays high. \n",
    "\n",
    "There is evidence, however, that $k_{al1}$ is getting smaller with increasing global temperature. Since that reduction itself drives increasing temperatures, we can understand it as a feedback mechanism -- which we'll call the \"terrestrial sequestration feedback\" (or TSF) effect. In Cambio 4.0, we'll represent this reduction algorithmically by multiplying $k_{al1}$ by a sigmoid function whose value drops from a pre-industrial value of 1, to a smaller value in a warmer world. Thus, the equations of Cambio 4.0 are written\n",
    "\n",
    "$$\n",
    "F_{land->atm} =  k_{la} \\ \\ \\ (1) \n",
    "$$\n",
    "\n",
    "$$\n",
    "F_{atm->land} = k_{al0} +  k_{al1} \\times [C_{atm}] \\times  \\sigma_{floor}(T_{anomaly})  \\ \\ \\ (2)\n",
    "$$\n",
    "\n",
    "$$\n",
    "F_{ocean->atm} = k_{oa} \\times (1+DC\\times T_{anomaly}) [C_{ocean}] \\ \\ \\ (3)\n",
    "$$\n",
    "\n",
    "$$\n",
    "F_{atm->ocean} = k_{ao} [C_{atm}] \\ \\ \\ (4)\n",
    "$$\n",
    "\n",
    "$$\n",
    "F_{human->atm} = \\epsilon(t) \\ \\ \\ (5)\n",
    "$$\n",
    "\n",
    "The chief challenge in this approach consists of finding realistic values of parameters that control $\\sigma_{floor}(T_{anomaly})$. As you will probably recall, there are (generically) three of these:\n",
    "- $T_{anomaly}^*$, the tipping point temperature at which $\\sigma_{floor}(T_{anomaly})$ transitions from its pre-industrial to its post-warming value.\n",
    "- $\\Delta T$, a measure of the abruptness of that transition\n",
    "- $\\sigma_{floor}$, the post-warming (smaller) value of $\\sigma$\n",
    "\n",
    "Recently, Ke et al, 2024 (https://arxiv.org/abs/2407.12447) have documented declining rates of atmosphere-to-land carbon flux, including an abrupt reduction in the year 2023. Geographically, it appears that reduction in the rate of sequestration in the Amazon basin is chiefly responsible. More to our present purpose, the paper describes these declining rates in a way that enables us to assign realistic values to $T_{anomaly}^*$, $\\Delta T$, and $\\sigma_{floor}$. That means we have everything we need to move forward with adding terrestrial sequestration feedback to our model. \n",
    "\n",
    "## The idea of this CGI\n",
    "Here, the idea is to see how addition of the terrestrial sequestration feedback mechanism affects the magnitude and timing of peak warming. To facilitate this, the process of running our Cambio simulations has been greatly streamlined. Although doing so comes at the cost of burying the algorithms inside Python libraries, it makes everything a lot easier to use.\n",
    "\n",
    "## Uploading your climate emissions scenario\n",
    "As before, you'll need to upload a climate emissions scenario file to the current folder. \n",
    "\n",
    "## Learning goals\n",
    "1. I can describe the terrestrial sequestration feedback (TSF) mechanism, and the parameters ($T_{anomaly}^*$, $\\Delta T$, and $\\sigma_{floor}$) that parameterize it.\n",
    "1. I can explain how it happens that while the impact of feedbacks such as the TSF can be estimated from the parameters, only an integrated simulation can provide its full impact.\n",
    "1. I can describe how TSF affects key climate predictions, including the magnitude and timing of anthropogenic maximum warming."
   ]
  },
  {
   "cell_type": "code",
   "execution_count": null,
   "metadata": {
    "executionInfo": {
     "elapsed": 3,
     "status": "ok",
     "timestamp": 1624579410347,
     "user": {
      "displayName": "Steven Neshyba",
      "photoUrl": "https://lh3.googleusercontent.com/a-/AOh14GhNBBB4oUDYM5LFwp5QBiZMax8b3ieYXI_9F1wa=s64",
      "userId": "12688310908552577631"
     },
     "user_tz": 420
    },
    "id": "xdh4_81TpIUV"
   },
   "outputs": [],
   "source": [
    "import numpy as np\n",
    "import matplotlib.pyplot as plt\n",
    "import meclib.cl as cl\n",
    "from copy import copy as makeacopy"
   ]
  },
  {
   "cell_type": "code",
   "execution_count": null,
   "metadata": {},
   "outputs": [],
   "source": [
    "%matplotlib notebook"
   ]
  },
  {
   "cell_type": "markdown",
   "metadata": {},
   "source": [
    "### Loading your favorite scheduled flow\n",
    "In the cell below, load in your scheduled flows file. It'll be most convenient if you use the following naming convention: \n",
    "\n",
    "    time, eps, epsdictionary_from_file = cl.LoadMyScenario('...')\n",
    "\n",
    "(but of course supplying the name of your own scheduled flows file). "
   ]
  },
  {
   "cell_type": "code",
   "execution_count": null,
   "metadata": {
    "deletable": false,
    "nbgrader": {
     "cell_type": "code",
     "checksum": "47f06ab56d44fd31bf22f707e332776d",
     "grade": true,
     "grade_id": "cell-4cd65b5c982936ae",
     "locked": false,
     "points": 2,
     "schema_version": 3,
     "solution": true,
     "task": false
    }
   },
   "outputs": [],
   "source": [
    "# your code here \n"
   ]
  },
  {
   "cell_type": "markdown",
   "metadata": {},
   "source": [
    "### Creating a dictionary for climate parameters\n",
    "In the cell below, we use the CreateClimateParams function to create a dictionary of climate parameters."
   ]
  },
  {
   "cell_type": "code",
   "execution_count": null,
   "metadata": {},
   "outputs": [],
   "source": [
    "ClimateParams = cl.CreateClimateParams(epsdictionary_from_file)\n",
    "print(ClimateParams)"
   ]
  },
  {
   "cell_type": "markdown",
   "metadata": {},
   "source": [
    "### Getting a sense of the impact of the terrestrial sequestration feedback\n",
    "The cell below provides a sense of the potential impact of the TSF (terrestrial sequestration feedback), by plotting $F_{atm->land} = k_{al0} +  k_{al1} \\times \\sigma_{floor}(T_{anomaly}) \\times [C_{atm}]$ as a function of the temperature anomaly we expect that will drive the TSF. Parameters controlling the sigmoid function ($T_{anomaly}^*$, $\\Delta T$, and $\\sigma_{floor}$) are based on a fit to data given in Ke et al, 2024 (https://arxiv.org/abs/2407.12447).\n",
    "\n",
    "We should emphasize that graphs like the one shown below provide only a *prediction of the consequence of a climate driver* (i.e., the reduction in terrestrial sequestration as a function of warming). Assessment of the full impact of this driver can only be made from an integrated simulation, in which the driver is included as part of the solution (Euler loop) of the Eqs. 1-5 in the Introduction. "
   ]
  },
  {
   "cell_type": "code",
   "execution_count": null,
   "metadata": {},
   "outputs": [],
   "source": [
    "# A range of atmospheric CO2 amounts (preindustrial to 2x that)\n",
    "C_atm_array = np.linspace(590,2*590)\n",
    "C_atm_array_ppm = C_atm_array/2.12\n",
    "\n",
    "# Get the temperature anomaly that would result from that, assuming no ice-albedo feedback\n",
    "T_anomaly = cl.Diagnose_T_anomaly(C_atm_array, 0.3, ClimateParams)\n",
    "\n",
    "# Other parameters we'll need for this comparison \n",
    "k_al0 = ClimateParams['k_al0']\n",
    "k_al1 = ClimateParams['k_al1']\n",
    "k_al1_Tstar = ClimateParams['k_al1_Tstar']\n",
    "k_al1_deltaT = ClimateParams['k_al1_deltaT']\n",
    "fractional_k_al1_floor = ClimateParams['fractional_k_al1_floor']\n",
    "\n",
    "# Terrestrial atmosphere-to-land flux with and without terrestrial sequestration feedback\n",
    "F_al_without_tsf = k_al0 + k_al1*C_atm_array\n",
    "F_al_with_tsf_extrap = k_al0 + k_al1*C_atm_array*fractional_k_al1_floor\n",
    "F_al_with_tsf = k_al0 + k_al1*C_atm_array*cl.sigmafloor(T_anomaly,k_al1_Tstar,k_al1_deltaT,fractional_k_al1_floor)\n",
    "\n",
    "# Plot them side by side\n",
    "iextrap = int(len(C_atm_array_ppm)/2)\n",
    "plt.figure()\n",
    "plt.plot(C_atm_array_ppm,F_al_without_tsf,'k',label=\"No TSF\")\n",
    "plt.plot(C_atm_array_ppm,F_al_with_tsf,'r',label=\"With TSF (tipping point $T^*_{anomaly}$=\"+str(k_al1_Tstar)+\"$^oC$)\")\n",
    "plt.plot(C_atm_array_ppm[iextrap:],F_al_with_tsf_extrap[iextrap:],'r.')\n",
    "plt.xlabel('Carbon in atmosphere (ppm)')\n",
    "plt.ylabel('F_al (GtC/yr)')\n",
    "plt.title('Estimated impact of terrestrial sequestration feedback (TSF) on atm-to-land flux')\n",
    "plt.legend()\n",
    "plt.grid()"
   ]
  },
  {
   "cell_type": "markdown",
   "metadata": {},
   "source": [
    "### Pause for analysis\n",
    "1. Given the current concentration of $CO_2$ in the atmosphere, how much has $CO_2$ fertilization already been impaired so far? \n",
    "1. How much impairment can we expect if atmospheric $CO_2$ reaches double its pre-industrial amount ($290 \\times 2 = 580 \\ ppm$)? Provide your answers in GtC/yr."
   ]
  },
  {
   "cell_type": "markdown",
   "metadata": {
    "deletable": false,
    "nbgrader": {
     "cell_type": "markdown",
     "checksum": "ed1d845b675c8985244dd089dc074c18",
     "grade": true,
     "grade_id": "cell-52f94ad0726b4349",
     "locked": false,
     "points": 5,
     "schema_version": 3,
     "solution": true,
     "task": false
    }
   },
   "source": [
    "YOUR ANSWER HERE"
   ]
  },
  {
   "cell_type": "markdown",
   "metadata": {},
   "source": [
    "### Duplicating Cambio3.0\n",
    "Below, we reproduce Cambio3.0."
   ]
  },
  {
   "cell_type": "code",
   "execution_count": null,
   "metadata": {},
   "outputs": [],
   "source": [
    "def PropagateCS_Cambio3(previousClimateState, ClimateParams, dt, F_ha):\n",
    "    \"\"\"Propagates the state of the climate, with a specified anthropogenic carbon flux\"\"\"\n",
    "    \"\"\"Returns a new climate state\"\"\"\n",
    "\n",
    "    # Extract constants from ClimateParams\n",
    "    k_la = ClimateParams['k_la']\n",
    "    k_al0 = ClimateParams['k_al0']\n",
    "    k_al1 = ClimateParams['k_al1']\n",
    "    k_oa = ClimateParams['k_oa']\n",
    "    k_ao = ClimateParams['k_ao']\n",
    "    DC = ClimateParams['DC']\n",
    "    preindustrial_albedo = ClimateParams['preindustrial albedo']\n",
    "    fractional_albedo_floor = ClimateParams['fractional_albedo_floor']\n",
    "    albedo_Tstar = ClimateParams['albedo_Tstar']\n",
    "    albedo_delta_T = ClimateParams['albedo_delta_T']\n",
    "    k_al1_Tstar = ClimateParams['k_al1_Tstar']\n",
    "    k_al1_deltaT = ClimateParams['k_al1_deltaT']\n",
    "    fractional_k_al1_floor = ClimateParams['fractional_k_al1_floor']\n",
    "    \n",
    "    # Extract concentrations, albedo, etc, from the previous climate state\n",
    "    C_atm = previousClimateState['C_atm']\n",
    "    C_ocean = previousClimateState['C_ocean']\n",
    "    albedo = previousClimateState['albedo']\n",
    "    time = previousClimateState['time']\n",
    "    \n",
    "    # Get the temperature implied by the carbon in the atmosphere and the updated albedo, and ocean pH\n",
    "    T_anomaly = cl.Diagnose_T_anomaly(C_atm, albedo, ClimateParams)\n",
    "    actual_temperature = cl.Diagnose_actual_temperature(T_anomaly)\n",
    "    OceanSurfacepH = cl.Diagnose_OceanSurfacepH(C_atm,ClimateParams)\n",
    "    \n",
    "    # Get the albedo implied by the temperature anomaly \n",
    "    albedo = cl.Diagnose_albedo(T_anomaly, ClimateParams)\n",
    "\n",
    "    # Get new fluxes (including the effect of temperature anomaly on the ocean-to-atmosphere flux)\n",
    "    F_la = k_la    \n",
    "    F_al = k_al0 + k_al1*C_atm\n",
    "    F_oa = k_oa*C_ocean*(1+DC*T_anomaly)    \n",
    "    F_ao = k_ao*C_atm\n",
    "\n",
    "    # Get new concentrations of carbon that depend on the fluxes\n",
    "    C_atm += (F_la + F_oa - F_ao - F_al + F_ha)*dt\n",
    "    C_ocean += (F_ao - F_oa)*dt\n",
    "    time += dt\n",
    "    \n",
    "    # Create a new climate state with these updates\n",
    "    ClimateState = makeacopy(previousClimateState)\n",
    "    ClimateState['C_atm'] = C_atm\n",
    "    ClimateState['C_ocean'] = C_ocean\n",
    "    ClimateState['F_al'] = F_al\n",
    "    ClimateState['F_la'] = F_la\n",
    "    ClimateState['F_ao'] = F_ao\n",
    "    ClimateState['F_oa'] = F_oa\n",
    "    ClimateState['F_ha'] = F_ha\n",
    "    ClimateState['F_ocean_net'] = F_oa-F_ao\n",
    "    ClimateState['F_land_net'] = F_la-F_al\n",
    "    ClimateState['time'] = time\n",
    "    ClimateState['T_anomaly'] = T_anomaly\n",
    "    ClimateState['actual temperature'] = actual_temperature\n",
    "    ClimateState['OceanSurfacepH'] = OceanSurfacepH\n",
    "    ClimateState['albedo'] = albedo\n",
    "\n",
    "    # Return the new climate state\n",
    "    return ClimateState\n",
    "\n",
    "# Run Cambio3.0\n",
    "CS_Cambio3_list = cl.run_Cambio(PropagateCS_Cambio3, ClimateParams, time, eps)\n",
    "\n",
    "# Choose items to plot\n",
    "items_to_plot = [['C_atm','C_ocean'],['F_ocean_net','F_land_net','F_ha'],'T_anomaly','albedo','OceanSurfacepH']\n",
    "\n",
    "# Plot those items\n",
    "cl.CS_list_plots(CS_Cambio3_list,'Cambio3',items_to_plot)"
   ]
  },
  {
   "cell_type": "markdown",
   "metadata": {},
   "source": [
    "### Cambio 4.0\n",
    "Below, the goal is to enhance Cambio3.0 with terrestrial sequestration feedback. It'll be mostly a cut-and-paste job, but you'll need to make an adjustment in the function that propagates the climate state forward. Then make all the plots you did for Cambio3.0."
   ]
  },
  {
   "cell_type": "code",
   "execution_count": null,
   "metadata": {
    "deletable": false,
    "nbgrader": {
     "cell_type": "code",
     "checksum": "adecfb723d5a29d553dfd7271fe2a591",
     "grade": true,
     "grade_id": "cell-eba74dcdb3f23429",
     "locked": false,
     "points": 10,
     "schema_version": 3,
     "solution": true,
     "task": false
    }
   },
   "outputs": [],
   "source": [
    "# your code here \n"
   ]
  },
  {
   "cell_type": "markdown",
   "metadata": {},
   "source": [
    "### Pause for analysis\n",
    "After studying the graphs above, provide in the cell below answers to the following questions. It will be helpful to refer to the max/min printouts as you do so.\n",
    "\n",
    "1. How much greater is the peak temperature that we can attribute to terrestrial sequestration feedbacks? (i.e., Cambio 4.0 compared to Cambio 3.0)\n",
    "1. What's the time delay in Cambio 4.0 between peak emissions and peak temperature?"
   ]
  },
  {
   "cell_type": "markdown",
   "metadata": {
    "deletable": false,
    "nbgrader": {
     "cell_type": "markdown",
     "checksum": "18b05c1788cb41d838d9d8bdd42fb733",
     "grade": true,
     "grade_id": "cell-de9081f97eeecfd5",
     "locked": false,
     "points": 9,
     "schema_version": 3,
     "solution": true,
     "task": false
    }
   },
   "source": [
    "YOUR ANSWER HERE"
   ]
  },
  {
   "cell_type": "markdown",
   "metadata": {},
   "source": [
    "### Validating and finishing up\n",
    "Assuming all this has gone smoothly, don't forget to do a Kernel/Restart & Run All, run the whole notebook, and make sure there aren't any errors."
   ]
  }
 ],
 "metadata": {
  "colab": {
   "collapsed_sections": [],
   "name": "SimpleCMB.ipynb",
   "provenance": []
  },
  "kernelspec": {
   "display_name": "Python 3 (ipykernel)",
   "language": "python",
   "name": "python3"
  },
  "language_info": {
   "codemirror_mode": {
    "name": "ipython",
    "version": 3
   },
   "file_extension": ".py",
   "mimetype": "text/x-python",
   "name": "python",
   "nbconvert_exporter": "python",
   "pygments_lexer": "ipython3",
   "version": "3.10.2"
  }
 },
 "nbformat": 4,
 "nbformat_minor": 1
}
