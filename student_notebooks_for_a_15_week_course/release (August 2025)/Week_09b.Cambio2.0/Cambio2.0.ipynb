{
 "cells": [
  {
   "cell_type": "markdown",
   "metadata": {
    "id": "HEFjocdv1OeY"
   },
   "source": [
    "### Computational Guided Inquiry for Modeling Earth's Climate (Neshyba, 2025)\n",
    "\n",
    "# Cambio 2.0\n",
    "\n",
    "## Equations of motion of Cambio2.0\n",
    "The equations of motion of Cambio2.0 are almost the same as Cambio1.0. The sole difference is that Cambio2.0 takes into account the *Henry effect*, by which the temperature dependence of the solubility of carbon dioxide in the ocean is taken into account.\n",
    "\n",
    "$$\n",
    "F_{land->atm} =  k_{la} \\ \\ \\ (1) \n",
    "$$\n",
    "\n",
    "$$\n",
    "F_{atm->land} = k_{al0} +  k_{al1} \\times [C_{atm}] \\ \\ \\ (2)\n",
    "$$\n",
    "\n",
    "$$\n",
    "F_{ocean->atm} = k_{oa} \\times (1+DC\\times T_{anomaly}) [C_{ocean}] \\ \\ \\ (3)\n",
    "$$\n",
    "\n",
    "$$\n",
    "F_{atm->ocean} = k_{ao} [C_{atm}] \\ \\ \\ (4)\n",
    "$$\n",
    "\n",
    "$$\n",
    "F_{human->atm} = \\epsilon(t) \\ \\ \\ (5)\n",
    "$$\n",
    "\n",
    "This innovation is a first step toward incorporating feedbacks into Cambio (of which more to come later).\n",
    "\n",
    "## The *meclib* library and other resources\n",
    "We've packed a lot of functions that you're familiar with into a resources library, *MEclib*. Here's a partial list of them:\n",
    "\n",
    "- Diagnose_OceanSurfacepH  \n",
    "- Diagnose_T_anomaly  \n",
    "- Diagnose_actual_temperature  \n",
    "- Diagnose_degreesF  \n",
    "\n",
    "We're also introducing a new dictionary to contain variables that define the current state of the climate (called *ClimateState*), and new functions that solve the Cambio equations of motion (called *PropagateClimateState_Cambio1* and *PropagateClimateState_Cambio2*).\n",
    "\n",
    "## Uploading your climate emissions scenario\n",
    "As before, you'll need to upload a climate emissions scenario file (like \"Peaks_in_2040.pkl\", or whichever one you prefer) to the current folder.\n",
    "\n",
    "## Learning goals\n",
    "1. I can make effective use of Python's \"help\" command.\n",
    "1. I can explain how the *Henry effect* plays a role in these equations, and in their results.\n",
    "1. I can make lists of Python dictionaries."
   ]
  },
  {
   "cell_type": "code",
   "execution_count": null,
   "metadata": {
    "executionInfo": {
     "elapsed": 3,
     "status": "ok",
     "timestamp": 1624579410347,
     "user": {
      "displayName": "Steven Neshyba",
      "photoUrl": "https://lh3.googleusercontent.com/a-/AOh14GhNBBB4oUDYM5LFwp5QBiZMax8b3ieYXI_9F1wa=s64",
      "userId": "12688310908552577631"
     },
     "user_tz": 420
    },
    "id": "xdh4_81TpIUV"
   },
   "outputs": [],
   "source": [
    "import numpy as np\n",
    "import matplotlib.pyplot as plt\n",
    "import meclib.cl as cl\n",
    "from copy import copy as makeacopy"
   ]
  },
  {
   "cell_type": "code",
   "execution_count": null,
   "metadata": {},
   "outputs": [],
   "source": [
    "%matplotlib notebook"
   ]
  },
  {
   "cell_type": "markdown",
   "metadata": {},
   "source": [
    "### Python's \"help\" command\n",
    "The cell below shows how to get details about functions. Try it!"
   ]
  },
  {
   "cell_type": "code",
   "execution_count": null,
   "metadata": {},
   "outputs": [],
   "source": [
    "help(np.log10)\n",
    "help(cl.Diagnose_OceanSurfacepH)"
   ]
  },
  {
   "cell_type": "markdown",
   "metadata": {},
   "source": [
    "### Your turn\n",
    "Use Python's \"help\" command to get help on a couple of functions in the cl library (check out the list in the Introduction)."
   ]
  },
  {
   "cell_type": "code",
   "execution_count": null,
   "metadata": {
    "deletable": false,
    "nbgrader": {
     "cell_type": "code",
     "checksum": "5636b20d75047d7cd14e6c83d1d73964",
     "grade": true,
     "grade_id": "cell-72b3a3f10ed85c84",
     "locked": false,
     "points": 2,
     "schema_version": 3,
     "solution": true,
     "task": false
    }
   },
   "outputs": [],
   "source": [
    "# your code here \n"
   ]
  },
  {
   "cell_type": "markdown",
   "metadata": {},
   "source": [
    "### Loading the scheduled flow\n",
    "In the cell below, do what you did before in DiagnosticFunctions -- i.e., load in the scheduled flows file you have uploaded. It'll be most convenient if you use the following naming convention: \n",
    "\n",
    "    time, eps, epsdictionary_fromfile = cl.LoadMyScenario(filename)\n",
    "\n",
    "(but of course supplying the name of your own scheduled flows file)."
   ]
  },
  {
   "cell_type": "code",
   "execution_count": null,
   "metadata": {
    "deletable": false,
    "nbgrader": {
     "cell_type": "code",
     "checksum": "47f06ab56d44fd31bf22f707e332776d",
     "grade": true,
     "grade_id": "cell-4cd65b5c982936ae",
     "locked": false,
     "points": 2,
     "schema_version": 3,
     "solution": true,
     "task": false
    }
   },
   "outputs": [],
   "source": [
    "# your code here \n"
   ]
  },
  {
   "cell_type": "markdown",
   "metadata": {},
   "source": [
    "### Creating a dictionary for climate parameters\n",
    "In the cell below, we use the CreateClimateParams function to create a dictionary of climate parameters."
   ]
  },
  {
   "cell_type": "code",
   "execution_count": null,
   "metadata": {},
   "outputs": [],
   "source": [
    "ClimateParams = cl.CreateClimateParams(epsdictionary_fromfile)\n",
    "display(ClimateParams)"
   ]
  },
  {
   "cell_type": "markdown",
   "metadata": {},
   "source": [
    "### Creating a climate state"
   ]
  },
  {
   "cell_type": "code",
   "execution_count": null,
   "metadata": {},
   "outputs": [],
   "source": [
    "ClimateState = cl.CreateClimateState(ClimateParams)\n",
    "display(ClimateState)"
   ]
  },
  {
   "cell_type": "markdown",
   "metadata": {},
   "source": [
    "### Making a list of climate states\n",
    "Eventually, we're going to want to make list of climate states. In the next cell, we practice that process by making a very simple and boring list -- two identical preindustrial climate states. \n",
    "\n",
    "You might notice that the syntax for this is different from how we appended to make lists before. That's because here we're creating a regular Python list, whereas before we were creating a list of numpy arrays."
   ]
  },
  {
   "cell_type": "code",
   "execution_count": null,
   "metadata": {},
   "outputs": [],
   "source": [
    "ClimateState_list = []\n",
    "ClimateState_list.append(ClimateState)\n",
    "ClimateState_list.append(ClimateState)\n",
    "display(ClimateState_list)"
   ]
  },
  {
   "cell_type": "markdown",
   "metadata": {},
   "source": [
    "### Extracting a time series from a climate list\n",
    "The \"display\" capability we just used is handy to get a view of the contents of a list, but sometimes we're more interested in particular items in the list. The function CollectClimateTimeSeries does just that. In the cell below, you can see how it works. Of course there are just two values, but when you use CollectClimateTimeSeries later, there will be hundreds of values."
   ]
  },
  {
   "cell_type": "code",
   "execution_count": null,
   "metadata": {},
   "outputs": [],
   "source": [
    "time_array = cl.CollectClimateTimeSeries(ClimateState_list,'time')\n",
    "display(time_array)"
   ]
  },
  {
   "cell_type": "markdown",
   "metadata": {},
   "source": [
    "### Your turn\n",
    "Collect and display all the atmospheric reservoir carbon amounts (C_atm) in ClimateState_list."
   ]
  },
  {
   "cell_type": "code",
   "execution_count": null,
   "metadata": {
    "deletable": false,
    "nbgrader": {
     "cell_type": "code",
     "checksum": "23f0aa380eb85f3adebbba64c92b3cb0",
     "grade": true,
     "grade_id": "cell-8bd350e5fdefcc3e",
     "locked": false,
     "points": 2,
     "schema_version": 3,
     "solution": true,
     "task": false
    }
   },
   "outputs": [],
   "source": [
    "# your code here \n"
   ]
  },
  {
   "cell_type": "markdown",
   "metadata": {},
   "source": [
    "### Duplicating the Cambio1.0 algorithm \n",
    "The cell below duplicates Cambio1.0's algorithm for propagating the climate state forward, but implemented as a Python function. This is all done for you, but it's worth taking a few minutes to inspect the code so you understand how it works.\n",
    "\n",
    "One item in particular to note: with this architecture, the array of climate states stored as a list is one shorter than the original. That's why the time plots have \"time_array\" on the x-axis (instead of \"time\")."
   ]
  },
  {
   "cell_type": "code",
   "execution_count": null,
   "metadata": {},
   "outputs": [],
   "source": [
    "def PropagateCS_Cambio1(previousClimateState, ClimateParams, dt, F_ha):\n",
    "    \"\"\"Propagates the state of the climate, with a specified anthropogenic carbon flux\"\"\"\n",
    "    \"\"\"Returns a new climate state\"\"\"\n",
    "\n",
    "    # Extract constants from ClimateParams\n",
    "    k_la = ClimateParams['k_la']\n",
    "    k_al0 = ClimateParams['k_al0']\n",
    "    k_al1 = ClimateParams['k_al1']\n",
    "    k_oa = ClimateParams['k_oa']\n",
    "    k_ao = ClimateParams['k_ao']\n",
    "    DC = ClimateParams['DC']\n",
    "    preindustrial_albedo = ClimateParams['preindustrial albedo']\n",
    "    fractional_albedo_floor = ClimateParams['fractional_albedo_floor']\n",
    "    albedo_Tstar = ClimateParams['albedo_Tstar']\n",
    "    albedo_delta_T = ClimateParams['albedo_delta_T']\n",
    "    k_al1_Tstar = ClimateParams['k_al1_Tstar']\n",
    "    k_al1_deltaT = ClimateParams['k_al1_deltaT']\n",
    "    fractional_k_al1_floor = ClimateParams['fractional_k_al1_floor']\n",
    "    \n",
    "    # Extract concentrations, albedo, etc, from the previous climate state\n",
    "    C_atm = previousClimateState['C_atm']\n",
    "    C_ocean = previousClimateState['C_ocean']\n",
    "    albedo = previousClimateState['albedo']\n",
    "    time = previousClimateState['time']\n",
    "    \n",
    "    # Get the temperature implied by the carbon in the atmosphere, and ocean pH\n",
    "    T_anomaly = cl.Diagnose_T_anomaly(C_atm, preindustrial_albedo, ClimateParams)\n",
    "    actual_temperature = cl.Diagnose_actual_temperature(T_anomaly)\n",
    "    OceanSurfacepH = cl.Diagnose_OceanSurfacepH(C_atm,ClimateParams)\n",
    "    \n",
    "    # Get new fluxes (including the effect of temperature anomaly on the ocean-to-atmosphere flux)\n",
    "    F_la = k_la    \n",
    "    F_al = k_al0 + k_al1*C_atm\n",
    "    F_oa = k_oa*C_ocean    \n",
    "    F_ao = k_ao*C_atm\n",
    "\n",
    "    # Get new concentrations of carbon that depend on the fluxes\n",
    "    C_atm += (F_la + F_oa - F_ao - F_al + F_ha)*dt\n",
    "    C_ocean += (F_ao - F_oa)*dt\n",
    "    time += dt\n",
    "    \n",
    "    # Create a new climate state with these updates\n",
    "    ClimateState = makeacopy(previousClimateState)\n",
    "    ClimateState['C_atm'] = C_atm\n",
    "    ClimateState['C_ocean'] = C_ocean\n",
    "    ClimateState['F_al'] = F_al\n",
    "    ClimateState['F_la'] = F_la\n",
    "    ClimateState['F_ao'] = F_ao\n",
    "    ClimateState['F_oa'] = F_oa\n",
    "    ClimateState['F_ha'] = F_ha\n",
    "    ClimateState['F_ocean_net'] = F_oa-F_ao\n",
    "    ClimateState['F_land_net'] = F_la-F_al\n",
    "    ClimateState['time'] = time\n",
    "    ClimateState['T_anomaly'] = T_anomaly\n",
    "    ClimateState['actual temperature'] = actual_temperature\n",
    "    ClimateState['OceanSurfacepH'] = OceanSurfacepH\n",
    "    ClimateState['albedo'] = albedo\n",
    "\n",
    "    # Return the new climate state\n",
    "    return ClimateState\n",
    "\n",
    "# Run Cambio1.0\n",
    "CS_Cambio1_list = cl.run_Cambio(PropagateCS_Cambio1, ClimateParams, time, eps)\n",
    "\n",
    "# Choose items to plot\n",
    "items_to_plot = [['C_atm','C_ocean'],['F_ha','F_ocean_net','F_land_net'],'T_anomaly','albedo']\n",
    "\n",
    "# Plot those items\n",
    "cl.CS_list_plots(CS_Cambio1_list,'Cambio1',items_to_plot)"
   ]
  },
  {
   "cell_type": "markdown",
   "metadata": {},
   "source": [
    "### Upgrading to Cambio2.0\n",
    "Below, the idea is to tweak what we just did such that we include Henry's effect (Eq. 3 in the Introduction). It's highly recommended that you make these tweaks one at a time, with plenty of testing after each one.\n",
    "\n",
    "Here are the changes we'll need in the cell below:\n",
    "1. Don't forget to name your function PropagateClimateState_Cambio2 (not PropagateClimateState_Cambio1), and to pass it to cl.run_Cambio.\n",
    "1. Inside PropagateClimateState_Cambio2, use the temperature anomaly to implement Henry's effect -- as represented by Eq. 3 in the Introduction.\n",
    "1. In addition to plotting the timelines you made for Cambio1.0, modify the variable *items_to_plot* to include 'OceanSurfacepH'."
   ]
  },
  {
   "cell_type": "code",
   "execution_count": null,
   "metadata": {
    "deletable": false,
    "nbgrader": {
     "cell_type": "code",
     "checksum": "192be707627ad8ff72540bf65104b675",
     "grade": true,
     "grade_id": "cell-aecdd27072e82a87",
     "locked": false,
     "points": 12,
     "schema_version": 3,
     "solution": true,
     "task": false
    }
   },
   "outputs": [],
   "source": [
    "# your code here \n"
   ]
  },
  {
   "cell_type": "markdown",
   "metadata": {},
   "source": [
    "### Pause for analysis\n",
    "1. Comparing Cambio 1.0 to 2.0 (i.e., the effect of incorporating the Henry's Law effect of temperature on the oceans), how much warmer is the peak temperature according to your Cambio 2.0 results vs 1.0? \n",
    "1. Focusing on just Cambio 2.0, how much of a time lag is there between peak emissions and peak temperature And what's the most acidic pH?"
   ]
  },
  {
   "cell_type": "markdown",
   "metadata": {
    "deletable": false,
    "nbgrader": {
     "cell_type": "markdown",
     "checksum": "0481713814ea6f127d2b6e3a8f1d2921",
     "grade": true,
     "grade_id": "cell-de9081f97eeecfd5",
     "locked": false,
     "points": 3,
     "schema_version": 3,
     "solution": true,
     "task": false
    }
   },
   "source": [
    "YOUR ANSWER HERE"
   ]
  },
  {
   "cell_type": "markdown",
   "metadata": {},
   "source": [
    "### Validating and finishing up\n",
    "Assuming all this has gone smoothly, don't forget to do a Kernel/Restart & Run All, run the whole notebook, and make sure there aren't any errors."
   ]
  }
 ],
 "metadata": {
  "colab": {
   "collapsed_sections": [],
   "name": "SimpleCMB.ipynb",
   "provenance": []
  },
  "kernelspec": {
   "display_name": "Python 3 (ipykernel)",
   "language": "python",
   "name": "python3"
  },
  "language_info": {
   "codemirror_mode": {
    "name": "ipython",
    "version": 3
   },
   "file_extension": ".py",
   "mimetype": "text/x-python",
   "name": "python",
   "nbconvert_exporter": "python",
   "pygments_lexer": "ipython3",
   "version": "3.10.2"
  }
 },
 "nbformat": 4,
 "nbformat_minor": 1
}
