{
 "cells": [
  {
   "cell_type": "markdown",
   "metadata": {
    "deletable": false,
    "editable": false,
    "id": "HEFjocdv1OeY",
    "nbgrader": {
     "cell_type": "markdown",
     "checksum": "576d50f4c1dfb6aa78dbbec34b75d754",
     "grade": false,
     "grade_id": "cell-874687ffa1551337",
     "locked": true,
     "schema_version": 3,
     "solution": false,
     "task": false
    }
   },
   "source": [
    "### Computational Guided Inquiry for Modeling Earth's Climate (Neshyba, 2025)\n",
    "\n",
    "# Cambio Comparisons\n",
    "\n",
    "## The idea of this CGI\n",
    "To summarize:\n",
    "\n",
    "- Cambio 1.0 has the five basic equations of motion, with $CO_2$ fertilization but no other feedbacks\n",
    "- Cambio 2.0 adds in Henry's Law feedbacks\n",
    "- Cambio 3.0 adds in ice-albedo feedback\n",
    "- Cambio 4.0 adds in terrestrial sequestion feedback that reduces $CO_2$ fertilization\n",
    "\n",
    "Here, the idea is carry out an intercomparison between these models.\n",
    "\n",
    "## Uploading your climate emissions scenario\n",
    "As before, you'll need to upload a climate emissions scenario file to the current folder. \n",
    "\n",
    "## Learning goals\n",
    "1. I can summarize differences in Cambio1.0-Cambio4.0, and the reasons for those differences."
   ]
  },
  {
   "cell_type": "code",
   "execution_count": null,
   "metadata": {
    "executionInfo": {
     "elapsed": 3,
     "status": "ok",
     "timestamp": 1624579410347,
     "user": {
      "displayName": "Steven Neshyba",
      "photoUrl": "https://lh3.googleusercontent.com/a-/AOh14GhNBBB4oUDYM5LFwp5QBiZMax8b3ieYXI_9F1wa=s64",
      "userId": "12688310908552577631"
     },
     "user_tz": 420
    },
    "id": "xdh4_81TpIUV"
   },
   "outputs": [],
   "source": [
    "import numpy as np\n",
    "import matplotlib.pyplot as plt\n",
    "import meclib.cl as cl"
   ]
  },
  {
   "cell_type": "code",
   "execution_count": null,
   "metadata": {},
   "outputs": [],
   "source": [
    "%matplotlib notebook"
   ]
  },
  {
   "cell_type": "markdown",
   "metadata": {
    "deletable": false,
    "editable": false,
    "nbgrader": {
     "cell_type": "markdown",
     "checksum": "828d1439a7d01efbe133259499fef693",
     "grade": false,
     "grade_id": "cell-8b59e81c0f82e136",
     "locked": true,
     "schema_version": 3,
     "solution": false,
     "task": false
    }
   },
   "source": [
    "### Loading your favorite scheduled flow\n",
    "In the cell below, load in your scheduled flows file. It'll be most convenient if you use the following naming convention: \n",
    "\n",
    "    time, eps, epsdictionary_from_file = cl.LoadMyScenario('...')\n",
    "\n",
    "(but of course supplying the name of your own scheduled flows file). "
   ]
  },
  {
   "cell_type": "code",
   "execution_count": null,
   "metadata": {
    "deletable": false,
    "nbgrader": {
     "cell_type": "code",
     "checksum": "47f06ab56d44fd31bf22f707e332776d",
     "grade": true,
     "grade_id": "cell-4cd65b5c982936ae",
     "locked": false,
     "points": 2,
     "schema_version": 3,
     "solution": true,
     "task": false
    }
   },
   "outputs": [],
   "source": [
    "# your code here \n"
   ]
  },
  {
   "cell_type": "markdown",
   "metadata": {
    "deletable": false,
    "editable": false,
    "nbgrader": {
     "cell_type": "markdown",
     "checksum": "2d1dd0f5ed8e4a9953309351559d17fa",
     "grade": false,
     "grade_id": "cell-c00434c2339fabee",
     "locked": true,
     "schema_version": 3,
     "solution": false,
     "task": false
    }
   },
   "source": [
    "### Creating a dictionary for climate parameters\n",
    "In the cell below, we use the CreateClimateParams function to create a dictionary of climate parameters."
   ]
  },
  {
   "cell_type": "code",
   "execution_count": null,
   "metadata": {
    "deletable": false,
    "editable": false,
    "nbgrader": {
     "cell_type": "code",
     "checksum": "d978590d4690eb1711b26e68d1a1e182",
     "grade": false,
     "grade_id": "cell-b1ccfc74e438ac2a",
     "locked": true,
     "schema_version": 3,
     "solution": false,
     "task": false
    }
   },
   "outputs": [],
   "source": [
    "ClimateParams = cl.CreateClimateParams(epsdictionary_from_file)"
   ]
  },
  {
   "cell_type": "markdown",
   "metadata": {
    "deletable": false,
    "editable": false,
    "nbgrader": {
     "cell_type": "markdown",
     "checksum": "fa694f4d098213180bcc24127161c748",
     "grade": false,
     "grade_id": "cell-a1ee8c8983f359da",
     "locked": true,
     "schema_version": 3,
     "solution": false,
     "task": false
    }
   },
   "source": [
    "### Running the various Cambio versions\n",
    "The cell below runs Cambio versions 1-4."
   ]
  },
  {
   "cell_type": "code",
   "execution_count": null,
   "metadata": {},
   "outputs": [],
   "source": [
    "CS_Cambio1_list = cl.run_Cambio(cl.PropagateClimateState_Cambio1, ClimateParams, time, eps)\n",
    "CS_Cambio2_list = cl.run_Cambio(cl.PropagateClimateState_Cambio2, ClimateParams, time, eps)\n",
    "CS_Cambio3_list = cl.run_Cambio(cl.PropagateClimateState_Cambio3, ClimateParams, time, eps)\n",
    "CS_Cambio4_list = cl.run_Cambio(cl.PropagateClimateState_Cambio4, ClimateParams, time, eps)"
   ]
  },
  {
   "cell_type": "markdown",
   "metadata": {
    "deletable": false,
    "editable": false,
    "nbgrader": {
     "cell_type": "markdown",
     "checksum": "2512384653fe2512472f0399c58aa3c0",
     "grade": false,
     "grade_id": "cell-b1b34e465ef0b20e",
     "locked": true,
     "schema_version": 3,
     "solution": false,
     "task": false
    }
   },
   "source": [
    "### Individual reports\n",
    "You can run the cell below as-is, or modify it to suit your interests."
   ]
  },
  {
   "cell_type": "code",
   "execution_count": null,
   "metadata": {},
   "outputs": [],
   "source": [
    "items_to_plot = [['C_atm','C_ocean'],['F_ha','F_ocean_net','F_land_net'],'T_anomaly']\n",
    "cl.CS_list_plots(CS_Cambio1_list,'Cambio1.0',items_to_plot)"
   ]
  },
  {
   "cell_type": "markdown",
   "metadata": {
    "deletable": false,
    "editable": false,
    "nbgrader": {
     "cell_type": "markdown",
     "checksum": "213dbb3f64d5f5e99fb2903e2b30ee4b",
     "grade": false,
     "grade_id": "cell-00872603b73cdb27",
     "locked": true,
     "schema_version": 3,
     "solution": false,
     "task": false
    }
   },
   "source": [
    "### Comparison plots\n",
    "The command below uses *cl.CS_list_compare* to compare Cambio1.0 to Cambio2.0 for a selection of data types."
   ]
  },
  {
   "cell_type": "code",
   "execution_count": null,
   "metadata": {},
   "outputs": [],
   "source": [
    "items_to_plot = [['F_ha','F_ocean_net','F_land_net'],'T_anomaly']\n",
    "cl.CS_list_compare([CS_Cambio1_list,CS_Cambio2_list],['Cambio1.0','Cambio2.0'],items_to_plot)"
   ]
  },
  {
   "cell_type": "markdown",
   "metadata": {},
   "source": [
    "### Your turn\n",
    "In the cell below, use *cl.CS_list_compare* to compare Cambio1.0 to Cambio4.0, but add these items to the *items_to_plot* list:\n",
    "\n",
    "    ['C_atm','C_ocean']\n",
    "    'albedo'\n",
    "    'OceanSurfacepH'"
   ]
  },
  {
   "cell_type": "code",
   "execution_count": null,
   "metadata": {
    "deletable": false,
    "nbgrader": {
     "cell_type": "code",
     "checksum": "eb85787a509cf656d6ea59acf8e3e837",
     "grade": true,
     "grade_id": "cell-ae932d63a41cf08a",
     "locked": false,
     "points": 6,
     "schema_version": 3,
     "solution": true,
     "task": false
    }
   },
   "outputs": [],
   "source": [
    "# your code here \n"
   ]
  },
  {
   "cell_type": "markdown",
   "metadata": {
    "deletable": false,
    "editable": false,
    "nbgrader": {
     "cell_type": "markdown",
     "checksum": "7d45ec34eb643feac1531e1b3290d055",
     "grade": false,
     "grade_id": "cell-9a88ca3f17638a5b",
     "locked": true,
     "schema_version": 3,
     "solution": false,
     "task": false
    }
   },
   "source": [
    "### Pause for analysis\n",
    "After studying the graphs above, provide in the cell below answers to the following questions. It will be helpful to refer to the max/min printouts as you do so.\n",
    "\n",
    "1. How much greater is the peak temperature that we can attribute to all feedbacks, compared to none? (i.e., Cambio 4.0 compared to Cambio 1.0)\n",
    "1. How does the timing of peak temperature increase due to feedbacks? (again, comparing timing of peak temperatures predicted by Cambio 4.0 to Cambio 1.0).\n",
    "1. How much peak warming can we attribute to terrestrial sequestration feedback alone? (i.e., Cambio 4.0 compared to Cambio 3.0)"
   ]
  },
  {
   "cell_type": "markdown",
   "metadata": {
    "deletable": false,
    "nbgrader": {
     "cell_type": "markdown",
     "checksum": "18b05c1788cb41d838d9d8bdd42fb733",
     "grade": true,
     "grade_id": "cell-de9081f97eeecfd5",
     "locked": false,
     "points": 9,
     "schema_version": 3,
     "solution": true,
     "task": false
    }
   },
   "source": [
    "YOUR ANSWER HERE"
   ]
  },
  {
   "cell_type": "markdown",
   "metadata": {
    "deletable": false,
    "editable": false,
    "nbgrader": {
     "cell_type": "markdown",
     "checksum": "658b54fb7dd609ac4ca37ddae527b534",
     "grade": false,
     "grade_id": "cell-4e77fce91fa3077c",
     "locked": true,
     "schema_version": 3,
     "solution": false,
     "task": false
    }
   },
   "source": [
    "### Validating and finishing up\n",
    "Assuming all this has gone smoothly, don't forget to do a Kernel/Restart & Run All, run the whole notebook, and make sure there aren't any errors."
   ]
  }
 ],
 "metadata": {
  "colab": {
   "collapsed_sections": [],
   "name": "SimpleCMB.ipynb",
   "provenance": []
  },
  "kernelspec": {
   "display_name": "Python 3 (ipykernel)",
   "language": "python",
   "name": "python3"
  },
  "language_info": {
   "codemirror_mode": {
    "name": "ipython",
    "version": 3
   },
   "file_extension": ".py",
   "mimetype": "text/x-python",
   "name": "python",
   "nbconvert_exporter": "python",
   "pygments_lexer": "ipython3",
   "version": "3.10.2"
  }
 },
 "nbformat": 4,
 "nbformat_minor": 1
}
