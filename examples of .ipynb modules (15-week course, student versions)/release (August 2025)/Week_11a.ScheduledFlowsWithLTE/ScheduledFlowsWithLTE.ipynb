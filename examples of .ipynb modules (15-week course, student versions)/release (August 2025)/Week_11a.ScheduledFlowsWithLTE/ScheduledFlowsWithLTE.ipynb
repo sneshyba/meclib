{
 "cells": [
  {
   "cell_type": "markdown",
   "metadata": {
    "id": "pXKK1rEgGCO1"
   },
   "source": [
    "### Computational Guided Inquiry for Modeling Earth's Climate (Neshyba, 2025)\n",
    "\n",
    "# Scheduled Flows with Long-term Emissions\n",
    "\n",
    "## Overview\n",
    "The idea of this module is to create an emissions scenario -- a _schedule_ -- that describes how much carbon humans have released to the atmosphere in the past, and that makes projections about future emissions. We've done this before (ScheduledFlows), but this will allow us to specify long-term emissions.\n",
    "\n",
    "## Skills\n",
    "\n",
    "- I know how to use the function ScheduledFlowsWithLTE to generate an emissions scenario."
   ]
  },
  {
   "cell_type": "code",
   "execution_count": null,
   "metadata": {},
   "outputs": [],
   "source": [
    "import numpy as np\n",
    "import pandas as pd\n",
    "import matplotlib.pyplot as plt\n",
    "import meclib.cl as cl"
   ]
  },
  {
   "cell_type": "code",
   "execution_count": null,
   "metadata": {},
   "outputs": [],
   "source": [
    "%matplotlib notebook"
   ]
  },
  {
   "cell_type": "markdown",
   "metadata": {},
   "source": [
    "### Using ScheduledFlowsWithLTE\n",
    "In the cell below, we calculate and plot an emissions scenario, $\\epsilon (t)$, using MakeEmissionsScenarioLTE (which includes long-term emissions)."
   ]
  },
  {
   "cell_type": "code",
   "execution_count": null,
   "metadata": {},
   "outputs": [],
   "source": [
    "# Parameters\n",
    "t_start = 1750\n",
    "t_stop = 2150\n",
    "nsteps = 600\n",
    "t = np.linspace(t_start,t_stop,nsteps)\n",
    "t_peak = 2060\n",
    "t_decarb = 15\n",
    "k = 0.0166\n",
    "t_0 = 2003\n",
    "eps_0 = 9\n",
    "epslongterm = 10\n",
    "\n",
    "# Create the scenario\n",
    "t, myeps = cl.MakeEmissionsScenarioLTE(t_start,t_stop,nsteps,k,eps_0,t_0,t_peak,t_decarb,epslongterm)\n",
    "\n",
    "# Plot the scenario\n",
    "plt.figure()\n",
    "plt.plot(t,myeps)\n",
    "plt.grid(True)\n",
    "plt.title('Emission scenario (GtC/year)')\n",
    "plt.xlabel('year')\n",
    "plt.ylabel('GtC/year')"
   ]
  },
  {
   "cell_type": "markdown",
   "metadata": {
    "deletable": false,
    "editable": false,
    "nbgrader": {
     "cell_type": "markdown",
     "checksum": "46203b0900788a2a110fbeb3d73a8d31",
     "grade": false,
     "grade_id": "cell-5fa0804646c577ab",
     "locked": true,
     "schema_version": 3,
     "solution": false,
     "task": false
    }
   },
   "source": [
    "### Your turn\n",
    "In the cell below, create another emissions scenario using cl.MakeEmissionsScenarioLTE. The parameters can be whatever you like, but you should make at least two changes:\n",
    "\n",
    "- give it a lower long-term emissions amount (since 10 GtC/year is far too high)\n",
    "- give it an earlier peak emissions year (since 2060 is too late)\n",
    "\n",
    "Then plot myeps as a function of time (t) to make sure it looks OK."
   ]
  },
  {
   "cell_type": "code",
   "execution_count": null,
   "metadata": {
    "deletable": false,
    "nbgrader": {
     "cell_type": "code",
     "checksum": "05a6c2820ec946b3d60a0f23a99d82c6",
     "grade": true,
     "grade_id": "cell-bb193f74faf1deb5",
     "locked": false,
     "points": 2,
     "schema_version": 3,
     "solution": true,
     "task": false
    }
   },
   "outputs": [],
   "source": [
    "# your code here \n"
   ]
  },
  {
   "cell_type": "markdown",
   "metadata": {
    "deletable": false,
    "editable": false,
    "nbgrader": {
     "cell_type": "markdown",
     "checksum": "d53df3b4065b1de4e65a872b05cd5d36",
     "grade": false,
     "grade_id": "cell-e47ef9ba21946628",
     "locked": true,
     "schema_version": 3,
     "solution": false,
     "task": false
    }
   },
   "source": [
    "### Saving your emissions scenario\n",
    "In the cell below we create the dictionary, etc., and save it to a file. You can use this as-is."
   ]
  },
  {
   "cell_type": "code",
   "execution_count": null,
   "metadata": {
    "colab": {
     "base_uri": "https://localhost:8080/",
     "height": 442
    },
    "id": "fk0YrAY_8RXu",
    "outputId": "f4005649-0786-41ff-dcad-d73ca9e40e5b"
   },
   "outputs": [],
   "source": [
    "# Create an empty dictionary\n",
    "epsdictionary = dict()\n",
    "\n",
    "# Create an empty dataframe\n",
    "epsdf = pd.DataFrame()\n",
    "\n",
    "# Insert the time and emissions columns into the dataframe\n",
    "epsdf.insert(loc=0, column='time', value=t)\n",
    "epsdf.insert(loc=1, column='emissions', value=myeps)\n",
    "\n",
    "# Add the dataframe to the dictionary\n",
    "epsdictionary['dataframe']=epsdf\n",
    "\n",
    "# Add metadata\n",
    "epsdictionary['t_0'] = t_0\n",
    "epsdictionary['eps_0'] = eps_0\n",
    "epsdictionary['t_peak'] = t_peak\n",
    "epsdictionary['t_decarb'] = t_decarb\n",
    "epsdictionary['k'] = k\n",
    "\n",
    "# Report the contents of the dictionary\n",
    "display(epsdictionary)"
   ]
  },
  {
   "cell_type": "markdown",
   "metadata": {},
   "source": [
    "### Saving your emissions scenario\n",
    "Use the cell below to save your emissions scenario (the entire dictionary -- data and metadata) as a file. Here's some sample code -- although you might want to modify the filename to something more meaningful, especially since we'll be eventually saving multiple scenarios.\n",
    "\n",
    "    # Decide on a name for the file, and then save to that file\n",
    "    filename = 'Peaks_in_2040_LTE.pkl'\n",
    "    cl.SaveMyScenario(epsdictionary, filename)"
   ]
  },
  {
   "cell_type": "code",
   "execution_count": null,
   "metadata": {
    "colab": {
     "base_uri": "https://localhost:8080/",
     "height": 442
    },
    "deletable": false,
    "id": "fk0YrAY_8RXu",
    "nbgrader": {
     "cell_type": "code",
     "checksum": "d531e3b2148bb75d7102daba02238e5e",
     "grade": true,
     "grade_id": "cell-52e718bc30dcbe10",
     "locked": false,
     "points": 2,
     "schema_version": 3,
     "solution": true,
     "task": false
    },
    "outputId": "f4005649-0786-41ff-dcad-d73ca9e40e5b"
   },
   "outputs": [],
   "source": [
    "# Assign a name for the file, and save it\n",
    "# your code here \n"
   ]
  },
  {
   "cell_type": "markdown",
   "metadata": {},
   "source": [
    "### Validating and finishing up\n",
    "Assuming all this has gone smoothly, don't forget to do a Kernel/Restart & Run All, run the whole notebook, and make sure there aren't any errors."
   ]
  }
 ],
 "metadata": {
  "colab": {
   "collapsed_sections": [],
   "name": "MakeEmissionsScenario.ipynb",
   "provenance": []
  },
  "kernelspec": {
   "display_name": "Python 3 (ipykernel)",
   "language": "python",
   "name": "python3"
  },
  "language_info": {
   "codemirror_mode": {
    "name": "ipython",
    "version": 3
   },
   "file_extension": ".py",
   "mimetype": "text/x-python",
   "name": "python",
   "nbconvert_exporter": "python",
   "pygments_lexer": "ipython3",
   "version": "3.10.2"
  }
 },
 "nbformat": 4,
 "nbformat_minor": 1
}
