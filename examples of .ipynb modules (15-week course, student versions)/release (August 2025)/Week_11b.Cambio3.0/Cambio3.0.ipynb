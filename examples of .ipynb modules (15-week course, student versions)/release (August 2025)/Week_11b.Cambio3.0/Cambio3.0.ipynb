{
 "cells": [
  {
   "cell_type": "markdown",
   "metadata": {
    "id": "HEFjocdv1OeY"
   },
   "source": [
    "### Computational Guided Inquiry for Modeling Earth's Climate (Neshyba, 2025)\n",
    "\n",
    "# Cambio 3.0\n",
    "\n",
    "## Equations of motion of Cambio3.0\n",
    "The equations of motion of Cambio3.0 are actually the same as Cambio2.0:\n",
    "$$\n",
    "F_{land->atm} =  k_{la} \\ \\ \\ (1) \n",
    "$$\n",
    "\n",
    "$$\n",
    "F_{atm->land} = k_{al0} +  k_{al1} \\times [C_{atm}] \\ \\ \\ (2)\n",
    "$$\n",
    "\n",
    "$$\n",
    "F_{ocean->atm} = k_{oa} \\times (1+DC\\times T_{anomaly}) [C_{ocean}] \\ \\ \\ (3)\n",
    "$$\n",
    "\n",
    "$$\n",
    "F_{atm->ocean} = k_{ao} [C_{atm}] \\ \\ \\ (4)\n",
    "$$\n",
    "\n",
    "$$\n",
    "F_{human->atm} = \\epsilon(t) \\ \\ \\ (5)\n",
    "$$\n",
    "\n",
    "The difference is that ice-albedo is taken into account within each iteration of the Euler loop is that after  we calculate an albedo based on the temperature anomaly, we *use that albedo to calculate a temperature anomaly*.\n",
    "\n",
    "\n",
    "## Uploading your climate emissions scenario\n",
    "As before, you'll need to upload a climate emissions scenario file to the current folder. \n",
    "\n",
    "## Learning goals\n",
    "1. I can describe the geophysical processes behind ice-albedo feedback.\n",
    "1. I can implement ice-albedo feedback in an Euler loop."
   ]
  },
  {
   "cell_type": "code",
   "execution_count": null,
   "metadata": {
    "executionInfo": {
     "elapsed": 3,
     "status": "ok",
     "timestamp": 1624579410347,
     "user": {
      "displayName": "Steven Neshyba",
      "photoUrl": "https://lh3.googleusercontent.com/a-/AOh14GhNBBB4oUDYM5LFwp5QBiZMax8b3ieYXI_9F1wa=s64",
      "userId": "12688310908552577631"
     },
     "user_tz": 420
    },
    "id": "xdh4_81TpIUV"
   },
   "outputs": [],
   "source": [
    "import numpy as np\n",
    "import matplotlib.pyplot as plt\n",
    "import meclib.cl as cl\n",
    "from copy import copy as makeacopy"
   ]
  },
  {
   "cell_type": "code",
   "execution_count": null,
   "metadata": {},
   "outputs": [],
   "source": [
    "%matplotlib notebook"
   ]
  },
  {
   "cell_type": "markdown",
   "metadata": {},
   "source": [
    "### Loading the scheduled flow\n",
    "In the cell below, load in your scheduled flows file. It'll be most convenient if you use the following naming convention: \n",
    "\n",
    "    time, eps, epsdictionary_fromfile = cl.LoadMyScenario(...)\n",
    "\n",
    "\n",
    "(but of course supplying the name of your own scheduled flows file)."
   ]
  },
  {
   "cell_type": "code",
   "execution_count": null,
   "metadata": {
    "deletable": false,
    "nbgrader": {
     "cell_type": "code",
     "checksum": "47f06ab56d44fd31bf22f707e332776d",
     "grade": true,
     "grade_id": "cell-4cd65b5c982936ae",
     "locked": false,
     "points": 2,
     "schema_version": 3,
     "solution": true,
     "task": false
    }
   },
   "outputs": [],
   "source": [
    "# your code here \n"
   ]
  },
  {
   "cell_type": "markdown",
   "metadata": {
    "deletable": false,
    "editable": false,
    "nbgrader": {
     "cell_type": "markdown",
     "checksum": "2d1dd0f5ed8e4a9953309351559d17fa",
     "grade": false,
     "grade_id": "cell-c00434c2339fabee",
     "locked": true,
     "schema_version": 3,
     "solution": false,
     "task": false
    }
   },
   "source": [
    "### Creating a dictionary for climate parameters\n",
    "In the cell below, we use the CreateClimateParams function to create a dictionary of climate parameters."
   ]
  },
  {
   "cell_type": "code",
   "execution_count": null,
   "metadata": {},
   "outputs": [],
   "source": [
    "ClimateParams = cl.CreateClimateParams(epsdictionary_fromfile)\n",
    "display(ClimateParams)"
   ]
  },
  {
   "cell_type": "markdown",
   "metadata": {},
   "source": [
    "### Duplicating Cambio2.0\n",
    "Below, we reproduce Cambio2.0."
   ]
  },
  {
   "cell_type": "code",
   "execution_count": null,
   "metadata": {},
   "outputs": [],
   "source": [
    "def PropagateCS_Cambio2(previousClimateState, ClimateParams, dt, F_ha):\n",
    "    \"\"\"Propagates the state of the climate, with a specified anthropogenic carbon flux\"\"\"\n",
    "    \"\"\"Returns a new climate state\"\"\"\n",
    "\n",
    "    # Extract constants from ClimateParams\n",
    "    k_la = ClimateParams['k_la']\n",
    "    k_al0 = ClimateParams['k_al0']\n",
    "    k_al1 = ClimateParams['k_al1']\n",
    "    k_oa = ClimateParams['k_oa']\n",
    "    k_ao = ClimateParams['k_ao']\n",
    "    DC = ClimateParams['DC']\n",
    "    preindustrial_albedo = ClimateParams['preindustrial albedo']\n",
    "    fractional_albedo_floor = ClimateParams['fractional_albedo_floor']\n",
    "    albedo_Tstar = ClimateParams['albedo_Tstar']\n",
    "    albedo_delta_T = ClimateParams['albedo_delta_T']\n",
    "    k_al1_Tstar = ClimateParams['k_al1_Tstar']\n",
    "    k_al1_deltaT = ClimateParams['k_al1_deltaT']\n",
    "    fractional_k_al1_floor = ClimateParams['fractional_k_al1_floor']\n",
    "    \n",
    "    # Extract concentrations, albedo, etc, from the previous climate state\n",
    "    C_atm = previousClimateState['C_atm']\n",
    "    C_ocean = previousClimateState['C_ocean']\n",
    "    albedo = previousClimateState['albedo']\n",
    "    time = previousClimateState['time']\n",
    "    \n",
    "    # Get the temperature implied by the carbon in the atmosphere, and ocean pH\n",
    "    T_anomaly = cl.Diagnose_T_anomaly(C_atm, preindustrial_albedo, ClimateParams)\n",
    "    actual_temperature = cl.Diagnose_actual_temperature(T_anomaly)\n",
    "    OceanSurfacepH = cl.Diagnose_OceanSurfacepH(C_atm,ClimateParams)\n",
    "    \n",
    "    # Get new fluxes (including the effect of temperature anomaly on the ocean-to-atmosphere flux)\n",
    "    F_la = k_la    \n",
    "    F_al = k_al0 + k_al1*C_atm\n",
    "    F_oa = k_oa*C_ocean*(1+DC*T_anomaly)    \n",
    "    F_ao = k_ao*C_atm\n",
    "\n",
    "    # Get new concentrations of carbon that depend on the fluxes\n",
    "    C_atm += (F_la + F_oa - F_ao - F_al + F_ha)*dt\n",
    "    C_ocean += (F_ao - F_oa)*dt\n",
    "    time += dt\n",
    "    \n",
    "    # Create a new climate state with these updates\n",
    "    ClimateState = makeacopy(previousClimateState)\n",
    "    ClimateState['C_atm'] = C_atm\n",
    "    ClimateState['C_ocean'] = C_ocean\n",
    "    ClimateState['F_al'] = F_al\n",
    "    ClimateState['F_la'] = F_la\n",
    "    ClimateState['F_ao'] = F_ao\n",
    "    ClimateState['F_oa'] = F_oa\n",
    "    ClimateState['F_ha'] = F_ha\n",
    "    ClimateState['F_ocean_net'] = F_oa-F_ao\n",
    "    ClimateState['F_land_net'] = F_la-F_al\n",
    "    ClimateState['time'] = time\n",
    "    ClimateState['T_anomaly'] = T_anomaly\n",
    "    ClimateState['actual temperature'] = actual_temperature\n",
    "    ClimateState['OceanSurfacepH'] = OceanSurfacepH\n",
    "    ClimateState['albedo'] = albedo\n",
    "\n",
    "    # Return the new climate state\n",
    "    return ClimateState\n",
    "\n",
    "# Run Cambio2.0\n",
    "CS_Cambio2_list = cl.run_Cambio(PropagateCS_Cambio2, ClimateParams, time, eps)\n",
    "\n",
    "# Choose items to plot\n",
    "items_to_plot = [['C_atm','C_ocean'],['F_ha','F_ocean_net','F_land_net'],'T_anomaly','albedo','OceanSurfacepH']\n",
    "\n",
    "# Plot those items\n",
    "cl.CS_list_plots(CS_Cambio2_list,'Cambio2',items_to_plot)"
   ]
  },
  {
   "cell_type": "markdown",
   "metadata": {},
   "source": [
    "### Cambio 3.0\n",
    "Below, the goal is to enhance Cambio2.0 with ice-albedo feedback. It'll be mostly a cut-and-paste job, but you'll need to make an adjustment in the function that propagates the climate state forward. Then make all the plots you did for Cambio2.0."
   ]
  },
  {
   "cell_type": "code",
   "execution_count": null,
   "metadata": {
    "deletable": false,
    "nbgrader": {
     "cell_type": "code",
     "checksum": "ac049e096fefd5485afa3fc479418fe8",
     "grade": true,
     "grade_id": "cell-020e47136331a22c",
     "locked": false,
     "points": 10,
     "schema_version": 3,
     "solution": true,
     "task": false
    }
   },
   "outputs": [],
   "source": [
    "# your code here \n"
   ]
  },
  {
   "cell_type": "markdown",
   "metadata": {},
   "source": [
    "### Pause for analysis\n",
    "Can you explain why there's such a big difference in the peak temperature between Cambio2.0 and Cambio3.0?"
   ]
  },
  {
   "cell_type": "markdown",
   "metadata": {
    "deletable": false,
    "nbgrader": {
     "cell_type": "markdown",
     "checksum": "0b9f0afbb755d1463ab48a937668c178",
     "grade": true,
     "grade_id": "cell-de9081f97eeecfd5",
     "locked": false,
     "points": 4,
     "schema_version": 3,
     "solution": true,
     "task": false
    }
   },
   "source": [
    "YOUR ANSWER HERE"
   ]
  },
  {
   "cell_type": "markdown",
   "metadata": {},
   "source": [
    "### Validating and finishing up\n",
    "Assuming all this has gone smoothly, don't forget to do a Kernel/Restart & Run All, run the whole notebook, and make sure there aren't any errors."
   ]
  }
 ],
 "metadata": {
  "colab": {
   "collapsed_sections": [],
   "name": "SimpleCMB.ipynb",
   "provenance": []
  },
  "kernelspec": {
   "display_name": "Python 3 (ipykernel)",
   "language": "python",
   "name": "python3"
  },
  "language_info": {
   "codemirror_mode": {
    "name": "ipython",
    "version": 3
   },
   "file_extension": ".py",
   "mimetype": "text/x-python",
   "name": "python",
   "nbconvert_exporter": "python",
   "pygments_lexer": "ipython3",
   "version": "3.10.2"
  }
 },
 "nbformat": 4,
 "nbformat_minor": 1
}
